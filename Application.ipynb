{
  "nbformat": 4,
  "nbformat_minor": 0,
  "metadata": {
    "colab": {
      "name": "Application",
      "provenance": []
    },
    "kernelspec": {
      "name": "python3",
      "display_name": "Python 3"
    },
    "language_info": {
      "name": "python"
    }
  },
  "cells": [
    {
      "cell_type": "code",
      "metadata": {
        "colab": {
          "base_uri": "https://localhost:8080/"
        },
        "id": "p0FgrQ2cLUrF",
        "outputId": "9561ffb3-8c9e-40c3-c7d7-d7c68b6cf5c5"
      },
      "source": [
        "!pip install 'pandas'\n",
        "!pip install 'pandasql'"
      ],
      "execution_count": 1,
      "outputs": [
        {
          "output_type": "stream",
          "text": [
            "Requirement already satisfied: pandas in /usr/local/lib/python3.7/dist-packages (1.1.5)\n",
            "Requirement already satisfied: pytz>=2017.2 in /usr/local/lib/python3.7/dist-packages (from pandas) (2018.9)\n",
            "Requirement already satisfied: numpy>=1.15.4 in /usr/local/lib/python3.7/dist-packages (from pandas) (1.19.5)\n",
            "Requirement already satisfied: python-dateutil>=2.7.3 in /usr/local/lib/python3.7/dist-packages (from pandas) (2.8.2)\n",
            "Requirement already satisfied: six>=1.5 in /usr/local/lib/python3.7/dist-packages (from python-dateutil>=2.7.3->pandas) (1.15.0)\n",
            "Collecting pandasql\n",
            "  Downloading pandasql-0.7.3.tar.gz (26 kB)\n",
            "Requirement already satisfied: numpy in /usr/local/lib/python3.7/dist-packages (from pandasql) (1.19.5)\n",
            "Requirement already satisfied: pandas in /usr/local/lib/python3.7/dist-packages (from pandasql) (1.1.5)\n",
            "Requirement already satisfied: sqlalchemy in /usr/local/lib/python3.7/dist-packages (from pandasql) (1.4.22)\n",
            "Requirement already satisfied: python-dateutil>=2.7.3 in /usr/local/lib/python3.7/dist-packages (from pandas->pandasql) (2.8.2)\n",
            "Requirement already satisfied: pytz>=2017.2 in /usr/local/lib/python3.7/dist-packages (from pandas->pandasql) (2018.9)\n",
            "Requirement already satisfied: six>=1.5 in /usr/local/lib/python3.7/dist-packages (from python-dateutil>=2.7.3->pandas->pandasql) (1.15.0)\n",
            "Requirement already satisfied: importlib-metadata in /usr/local/lib/python3.7/dist-packages (from sqlalchemy->pandasql) (4.6.4)\n",
            "Requirement already satisfied: greenlet!=0.4.17 in /usr/local/lib/python3.7/dist-packages (from sqlalchemy->pandasql) (1.1.1)\n",
            "Requirement already satisfied: typing-extensions>=3.6.4 in /usr/local/lib/python3.7/dist-packages (from importlib-metadata->sqlalchemy->pandasql) (3.7.4.3)\n",
            "Requirement already satisfied: zipp>=0.5 in /usr/local/lib/python3.7/dist-packages (from importlib-metadata->sqlalchemy->pandasql) (3.5.0)\n",
            "Building wheels for collected packages: pandasql\n",
            "  Building wheel for pandasql (setup.py) ... \u001b[?25l\u001b[?25hdone\n",
            "  Created wheel for pandasql: filename=pandasql-0.7.3-py3-none-any.whl size=26781 sha256=76ac9925d29c0b647275ca332bfd68a20028de3fc0c3c6b7f8cdebe3e0126e2f\n",
            "  Stored in directory: /root/.cache/pip/wheels/5c/4b/ec/41f4e116c8053c3654e2c2a47c62b4fca34cc67ef7b55deb7f\n",
            "Successfully built pandasql\n",
            "Installing collected packages: pandasql\n",
            "Successfully installed pandasql-0.7.3\n"
          ],
          "name": "stdout"
        }
      ]
    },
    {
      "cell_type": "code",
      "metadata": {
        "id": "arrwBTCULesk"
      },
      "source": [
        "import pandas as pd\n",
        "import pandasql"
      ],
      "execution_count": 2,
      "outputs": []
    },
    {
      "cell_type": "code",
      "metadata": {
        "id": "3HOILPyIMI3h"
      },
      "source": [
        "url = 'https://docs.google.com/spreadsheets/d/1FZhTq6ybbxC63htBEd_kxsJI9vTcKSXUcfwWMLVSo0Y/edit?usp=sharing'"
      ],
      "execution_count": 10,
      "outputs": []
    },
    {
      "cell_type": "code",
      "metadata": {
        "colab": {
          "base_uri": "https://localhost:8080/"
        },
        "id": "EtQHXLROPM5j",
        "outputId": "50ca7cb4-062c-497b-8e6d-dda07a3309d0"
      },
      "source": [
        "!pip install oauth2client \n",
        "!pip install gspread\n"
      ],
      "execution_count": 11,
      "outputs": [
        {
          "output_type": "stream",
          "text": [
            "Requirement already satisfied: oauth2client in /usr/local/lib/python3.7/dist-packages (4.1.3)\n",
            "Requirement already satisfied: six>=1.6.1 in /usr/local/lib/python3.7/dist-packages (from oauth2client) (1.15.0)\n",
            "Requirement already satisfied: httplib2>=0.9.1 in /usr/local/lib/python3.7/dist-packages (from oauth2client) (0.17.4)\n",
            "Requirement already satisfied: rsa>=3.1.4 in /usr/local/lib/python3.7/dist-packages (from oauth2client) (4.7.2)\n",
            "Requirement already satisfied: pyasn1>=0.1.7 in /usr/local/lib/python3.7/dist-packages (from oauth2client) (0.4.8)\n",
            "Requirement already satisfied: pyasn1-modules>=0.0.5 in /usr/local/lib/python3.7/dist-packages (from oauth2client) (0.2.8)\n",
            "Requirement already satisfied: gspread in /usr/local/lib/python3.7/dist-packages (3.0.1)\n",
            "Requirement already satisfied: requests>=2.2.1 in /usr/local/lib/python3.7/dist-packages (from gspread) (2.23.0)\n",
            "Requirement already satisfied: idna<3,>=2.5 in /usr/local/lib/python3.7/dist-packages (from requests>=2.2.1->gspread) (2.10)\n",
            "Requirement already satisfied: certifi>=2017.4.17 in /usr/local/lib/python3.7/dist-packages (from requests>=2.2.1->gspread) (2021.5.30)\n",
            "Requirement already satisfied: chardet<4,>=3.0.2 in /usr/local/lib/python3.7/dist-packages (from requests>=2.2.1->gspread) (3.0.4)\n",
            "Requirement already satisfied: urllib3!=1.25.0,!=1.25.1,<1.26,>=1.21.1 in /usr/local/lib/python3.7/dist-packages (from requests>=2.2.1->gspread) (1.24.3)\n"
          ],
          "name": "stdout"
        }
      ]
    },
    {
      "cell_type": "code",
      "metadata": {
        "id": "JjJa_m731gSC"
      },
      "source": [
        "from oauth2client.service_account import ServiceAccountCredentials\n",
        "import gspread\n",
        "\n",
        "scope = ['https://www.googleapis.com/auth/spreadsheets']\n",
        "credentials = ServiceAccountCredentials.from_json_keyfile_name('my_json_file.json', scope)\n",
        "client = gspread.authorize(credentials)\n",
        "sheet = client.open_by_url(url)\n",
        "worksheet = sheet.get_worksheet(0)\n",
        "results = worksheet.get_all_records()"
      ],
      "execution_count": 12,
      "outputs": []
    },
    {
      "cell_type": "code",
      "metadata": {
        "id": "aXmbGGjPcUWd"
      },
      "source": [
        "result_df = pd.DataFrame(results)"
      ],
      "execution_count": 13,
      "outputs": []
    },
    {
      "cell_type": "code",
      "metadata": {
        "colab": {
          "base_uri": "https://localhost:8080/"
        },
        "id": "hTfqZpjHdAGA",
        "outputId": "1f70a18d-3328-4763-d1a0-cfed2bbfae7b"
      },
      "source": [
        "result_df.columns"
      ],
      "execution_count": 14,
      "outputs": [
        {
          "output_type": "execute_result",
          "data": {
            "text/plain": [
              "Index(['ประทับเวลา', 'เพศ', 'ชั้นปีการศึกษา', 'คณะที่ศึกษา',\n",
              "       'การให้คะแนนความพึงพอใจต่อ Applications ที่ใช้ในการศึกษาในช่วงสถานการณ์ Covid-19 [Zoom]',\n",
              "       'การให้คะแนนความพึงพอใจต่อ Applications ที่ใช้ในการศึกษาในช่วงสถานการณ์ Covid-19 [Google Meet]',\n",
              "       'การให้คะแนนความพึงพอใจต่อ Applications ที่ใช้ในการศึกษาในช่วงสถานการณ์ Covid-19 [Microsoft Teams]'],\n",
              "      dtype='object')"
            ]
          },
          "metadata": {},
          "execution_count": 14
        }
      ]
    },
    {
      "cell_type": "code",
      "metadata": {
        "colab": {
          "base_uri": "https://localhost:8080/"
        },
        "id": "HbIrt-N8ccKv",
        "outputId": "7c4b4980-e2ec-4edc-9ade-8b07151cd1ba"
      },
      "source": [
        "result_df.shape"
      ],
      "execution_count": 15,
      "outputs": [
        {
          "output_type": "execute_result",
          "data": {
            "text/plain": [
              "(102, 7)"
            ]
          },
          "metadata": {},
          "execution_count": 15
        }
      ]
    },
    {
      "cell_type": "code",
      "metadata": {
        "colab": {
          "base_uri": "https://localhost:8080/",
          "height": 425
        },
        "id": "uC_JWXckceh3",
        "outputId": "38976abc-8c81-4272-c052-c10eae7ffda9"
      },
      "source": [
        "result_df.head()"
      ],
      "execution_count": 16,
      "outputs": [
        {
          "output_type": "execute_result",
          "data": {
            "text/html": [
              "<div>\n",
              "<style scoped>\n",
              "    .dataframe tbody tr th:only-of-type {\n",
              "        vertical-align: middle;\n",
              "    }\n",
              "\n",
              "    .dataframe tbody tr th {\n",
              "        vertical-align: top;\n",
              "    }\n",
              "\n",
              "    .dataframe thead th {\n",
              "        text-align: right;\n",
              "    }\n",
              "</style>\n",
              "<table border=\"1\" class=\"dataframe\">\n",
              "  <thead>\n",
              "    <tr style=\"text-align: right;\">\n",
              "      <th></th>\n",
              "      <th>ประทับเวลา</th>\n",
              "      <th>เพศ</th>\n",
              "      <th>ชั้นปีการศึกษา</th>\n",
              "      <th>คณะที่ศึกษา</th>\n",
              "      <th>การให้คะแนนความพึงพอใจต่อ Applications ที่ใช้ในการศึกษาในช่วงสถานการณ์ Covid-19 [Zoom]</th>\n",
              "      <th>การให้คะแนนความพึงพอใจต่อ Applications ที่ใช้ในการศึกษาในช่วงสถานการณ์ Covid-19 [Google Meet]</th>\n",
              "      <th>การให้คะแนนความพึงพอใจต่อ Applications ที่ใช้ในการศึกษาในช่วงสถานการณ์ Covid-19 [Microsoft Teams]</th>\n",
              "    </tr>\n",
              "  </thead>\n",
              "  <tbody>\n",
              "    <tr>\n",
              "      <th>0</th>\n",
              "      <td>20/8/2021, 19:39:02</td>\n",
              "      <td>หญิง</td>\n",
              "      <td>ชั้นปีการศึกษาที่ 2</td>\n",
              "      <td>คณะวิทยาศาสตร์</td>\n",
              "      <td>4</td>\n",
              "      <td>5</td>\n",
              "      <td>5</td>\n",
              "    </tr>\n",
              "    <tr>\n",
              "      <th>1</th>\n",
              "      <td>20/8/2021, 19:39:39</td>\n",
              "      <td>หญิง</td>\n",
              "      <td>ชั้นปีการศึกษาที่ 2</td>\n",
              "      <td>วิศวกรรมศาสตร์</td>\n",
              "      <td>3</td>\n",
              "      <td>3</td>\n",
              "      <td>3</td>\n",
              "    </tr>\n",
              "    <tr>\n",
              "      <th>2</th>\n",
              "      <td>20/8/2021, 19:39:48</td>\n",
              "      <td>ชาย</td>\n",
              "      <td>ชั้นปีการศึกษาที่ 1</td>\n",
              "      <td>ศึกษา</td>\n",
              "      <td>3</td>\n",
              "      <td>4</td>\n",
              "      <td>3</td>\n",
              "    </tr>\n",
              "    <tr>\n",
              "      <th>3</th>\n",
              "      <td>20/8/2021, 19:40:16</td>\n",
              "      <td>ชาย</td>\n",
              "      <td>ชั้นปีการศึกษาที่ 3</td>\n",
              "      <td>คณะอักษร</td>\n",
              "      <td>4</td>\n",
              "      <td>5</td>\n",
              "      <td>2</td>\n",
              "    </tr>\n",
              "    <tr>\n",
              "      <th>4</th>\n",
              "      <td>20/8/2021, 19:40:51</td>\n",
              "      <td>หญิง</td>\n",
              "      <td>ชั้นปีการศึกษาที่ 2</td>\n",
              "      <td>วิทยาลัยการศึกษา</td>\n",
              "      <td>4</td>\n",
              "      <td>3</td>\n",
              "      <td>4</td>\n",
              "    </tr>\n",
              "  </tbody>\n",
              "</table>\n",
              "</div>"
            ],
            "text/plain": [
              "            ประทับเวลา  ... การให้คะแนนความพึงพอใจต่อ Applications ที่ใช้ในการศึกษาในช่วงสถานการณ์ Covid-19 [Microsoft Teams]\n",
              "0  20/8/2021, 19:39:02  ...                                                  5                                               \n",
              "1  20/8/2021, 19:39:39  ...                                                  3                                               \n",
              "2  20/8/2021, 19:39:48  ...                                                  3                                               \n",
              "3  20/8/2021, 19:40:16  ...                                                  2                                               \n",
              "4  20/8/2021, 19:40:51  ...                                                  4                                               \n",
              "\n",
              "[5 rows x 7 columns]"
            ]
          },
          "metadata": {},
          "execution_count": 16
        }
      ]
    },
    {
      "cell_type": "code",
      "metadata": {
        "colab": {
          "base_uri": "https://localhost:8080/",
          "height": 669
        },
        "id": "UpgJMHRSdj95",
        "outputId": "297cf648-15ee-4325-a18a-7fcddf34404a"
      },
      "source": [
        "qdf =  pandasql.sqldf(\"select คณะที่ศึกษา from result_df group by คณะที่ศึกษา\")\n",
        "\n",
        "qdf.head(20)"
      ],
      "execution_count": 17,
      "outputs": [
        {
          "output_type": "execute_result",
          "data": {
            "text/html": [
              "<div>\n",
              "<style scoped>\n",
              "    .dataframe tbody tr th:only-of-type {\n",
              "        vertical-align: middle;\n",
              "    }\n",
              "\n",
              "    .dataframe tbody tr th {\n",
              "        vertical-align: top;\n",
              "    }\n",
              "\n",
              "    .dataframe thead th {\n",
              "        text-align: right;\n",
              "    }\n",
              "</style>\n",
              "<table border=\"1\" class=\"dataframe\">\n",
              "  <thead>\n",
              "    <tr style=\"text-align: right;\">\n",
              "      <th></th>\n",
              "      <th>คณะที่ศึกษา</th>\n",
              "    </tr>\n",
              "  </thead>\n",
              "  <tbody>\n",
              "    <tr>\n",
              "      <th>0</th>\n",
              "      <td></td>\n",
              "    </tr>\n",
              "    <tr>\n",
              "      <th>1</th>\n",
              "      <td>คณะวิทยาศาสตร์</td>\n",
              "    </tr>\n",
              "    <tr>\n",
              "      <th>2</th>\n",
              "      <td>คณะศึกษาศาสตร์</td>\n",
              "    </tr>\n",
              "    <tr>\n",
              "      <th>3</th>\n",
              "      <td>คณะอักษร</td>\n",
              "    </tr>\n",
              "    <tr>\n",
              "      <th>4</th>\n",
              "      <td>วิทยา</td>\n",
              "    </tr>\n",
              "    <tr>\n",
              "      <th>5</th>\n",
              "      <td>วิทยาการคอมพิวเตอร์</td>\n",
              "    </tr>\n",
              "    <tr>\n",
              "      <th>6</th>\n",
              "      <td>วิทยาลัยการศึกษา</td>\n",
              "    </tr>\n",
              "    <tr>\n",
              "      <th>7</th>\n",
              "      <td>วิทยาศาสตณ</td>\n",
              "    </tr>\n",
              "    <tr>\n",
              "      <th>8</th>\n",
              "      <td>วิทยาศาสตร์</td>\n",
              "    </tr>\n",
              "    <tr>\n",
              "      <th>9</th>\n",
              "      <td>วิทย์</td>\n",
              "    </tr>\n",
              "    <tr>\n",
              "      <th>10</th>\n",
              "      <td>วิศวกรรมศาสตร์</td>\n",
              "    </tr>\n",
              "    <tr>\n",
              "      <th>11</th>\n",
              "      <td>วิศวะ</td>\n",
              "    </tr>\n",
              "    <tr>\n",
              "      <th>12</th>\n",
              "      <td>วิศวุะ</td>\n",
              "    </tr>\n",
              "    <tr>\n",
              "      <th>13</th>\n",
              "      <td>ศึกษา</td>\n",
              "    </tr>\n",
              "    <tr>\n",
              "      <th>14</th>\n",
              "      <td>ศึกษาศาสตร์</td>\n",
              "    </tr>\n",
              "    <tr>\n",
              "      <th>15</th>\n",
              "      <td>ศึกษาสาสตร์</td>\n",
              "    </tr>\n",
              "    <tr>\n",
              "      <th>16</th>\n",
              "      <td>อักษร</td>\n",
              "    </tr>\n",
              "    <tr>\n",
              "      <th>17</th>\n",
              "      <td>อักษรศาสตร์</td>\n",
              "    </tr>\n",
              "    <tr>\n",
              "      <th>18</th>\n",
              "      <td>เทคนิคการแพทย์</td>\n",
              "    </tr>\n",
              "    <tr>\n",
              "      <th>19</th>\n",
              "      <td>เทคโนโลยีอุตสาหกรรม</td>\n",
              "    </tr>\n",
              "  </tbody>\n",
              "</table>\n",
              "</div>"
            ],
            "text/plain": [
              "            คณะที่ศึกษา\n",
              "0                      \n",
              "1        คณะวิทยาศาสตร์\n",
              "2        คณะศึกษาศาสตร์\n",
              "3              คณะอักษร\n",
              "4                 วิทยา\n",
              "5   วิทยาการคอมพิวเตอร์\n",
              "6      วิทยาลัยการศึกษา\n",
              "7            วิทยาศาสตณ\n",
              "8           วิทยาศาสตร์\n",
              "9                 วิทย์\n",
              "10       วิศวกรรมศาสตร์\n",
              "11                วิศวะ\n",
              "12               วิศวุะ\n",
              "13                ศึกษา\n",
              "14          ศึกษาศาสตร์\n",
              "15          ศึกษาสาสตร์\n",
              "16                อักษร\n",
              "17          อักษรศาสตร์\n",
              "18       เทคนิคการแพทย์\n",
              "19  เทคโนโลยีอุตสาหกรรม"
            ]
          },
          "metadata": {},
          "execution_count": 17
        }
      ]
    },
    {
      "cell_type": "code",
      "metadata": {
        "id": "UblXE2ildW9y"
      },
      "source": [
        "result_df.loc[result_df.คณะที่ศึกษา == 'วิทยา', 'คณะที่ศึกษา'] = 'คณะวิทยาศาสตร์'\n",
        "result_df.loc[result_df.คณะที่ศึกษา == 'วิทยาการคอมพิวเตอร์', 'คณะที่ศึกษา'] = 'คณะวิทยาศาสตร์'\n",
        "result_df.loc[result_df.คณะที่ศึกษา == 'วิทยาศาสตณ', 'คณะที่ศึกษา'] = 'คณะวิทยาศาสตร์'\n",
        "result_df.loc[result_df.คณะที่ศึกษา == 'วิทยาศาสตร์', 'คณะที่ศึกษา'] = 'คณะวิทยาศาสตร์'\n",
        "result_df.loc[result_df.คณะที่ศึกษา == 'วิทย์', 'คณะที่ศึกษา'] = 'คณะวิทยาศาสตร์'\n",
        "result_df.loc[result_df.คณะที่ศึกษา == 'เทคโนโลยีอุตสาหกรรม', 'คณะที่ศึกษา'] = 'คณะวิทยาศาสตร์'\n",
        "result_df.loc[result_df.คณะที่ศึกษา == 'เทคนิคการแพทย์', 'คณะที่ศึกษา'] = 'คณะวิทยาศาสตร์'"
      ],
      "execution_count": 18,
      "outputs": []
    },
    {
      "cell_type": "code",
      "metadata": {
        "id": "6pzuMo3l-whB"
      },
      "source": [
        "result_df.loc[result_df.คณะที่ศึกษา == 'ศึกษาศาสตร์', 'คณะที่ศึกษา'] = 'คณะศึกษาศาสตร์'\n",
        "result_df.loc[result_df.คณะที่ศึกษา == 'ศึกษา', 'คณะที่ศึกษา'] = 'คณะศึกษาศาสตร์'\n",
        "result_df.loc[result_df.คณะที่ศึกษา == 'ศึกษาสาสตร์', 'คณะที่ศึกษา'] = 'คณะศึกษาศาสตร์'\n",
        "result_df.loc[result_df.คณะที่ศึกษา == 'วิทยาลัยการศึกษา', 'คณะที่ศึกษา'] = 'คณะศึกษาศาสตร์'"
      ],
      "execution_count": 19,
      "outputs": []
    },
    {
      "cell_type": "code",
      "metadata": {
        "id": "HZQTxRYE_ZY7"
      },
      "source": [
        "result_df.loc[result_df.คณะที่ศึกษา == 'คณะอักษร', 'คณะที่ศึกษา'] = 'คณะอักษรศาสตร์'\n",
        "result_df.loc[result_df.คณะที่ศึกษา == 'อักษร', 'คณะที่ศึกษา'] = 'คณะอักษรศาสตร์'\n",
        "result_df.loc[result_df.คณะที่ศึกษา == 'อักษรศาสตร์', 'คณะที่ศึกษา'] = 'คณะอักษรศาสตร์'"
      ],
      "execution_count": 20,
      "outputs": []
    },
    {
      "cell_type": "code",
      "metadata": {
        "id": "3WbzfIHZAUxK"
      },
      "source": [
        "result_df.loc[result_df.คณะที่ศึกษา == 'วิศวกรรมศาสตร์', 'คณะที่ศึกษา'] = 'คณะวิศวกรรมศาสตร์'\n",
        "result_df.loc[result_df.คณะที่ศึกษา == 'วิศวะ', 'คณะที่ศึกษา'] = 'คณะวิศวกรรมศาสตร์'\n",
        "result_df.loc[result_df.คณะที่ศึกษา == 'วิศวุะ', 'คณะที่ศึกษา'] = 'คณะวิศวกรรมศาสตร์'"
      ],
      "execution_count": 21,
      "outputs": []
    },
    {
      "cell_type": "code",
      "metadata": {
        "colab": {
          "base_uri": "https://localhost:8080/",
          "height": 204
        },
        "id": "ikOslvcL_a9E",
        "outputId": "746db5a0-5132-477e-906d-f71379c89ef1"
      },
      "source": [
        "qdf =  pandasql.sqldf(\"select คณะที่ศึกษา from result_df group by คณะที่ศึกษา\")\n",
        "\n",
        "qdf.head(20)"
      ],
      "execution_count": 22,
      "outputs": [
        {
          "output_type": "execute_result",
          "data": {
            "text/html": [
              "<div>\n",
              "<style scoped>\n",
              "    .dataframe tbody tr th:only-of-type {\n",
              "        vertical-align: middle;\n",
              "    }\n",
              "\n",
              "    .dataframe tbody tr th {\n",
              "        vertical-align: top;\n",
              "    }\n",
              "\n",
              "    .dataframe thead th {\n",
              "        text-align: right;\n",
              "    }\n",
              "</style>\n",
              "<table border=\"1\" class=\"dataframe\">\n",
              "  <thead>\n",
              "    <tr style=\"text-align: right;\">\n",
              "      <th></th>\n",
              "      <th>คณะที่ศึกษา</th>\n",
              "    </tr>\n",
              "  </thead>\n",
              "  <tbody>\n",
              "    <tr>\n",
              "      <th>0</th>\n",
              "      <td></td>\n",
              "    </tr>\n",
              "    <tr>\n",
              "      <th>1</th>\n",
              "      <td>คณะวิทยาศาสตร์</td>\n",
              "    </tr>\n",
              "    <tr>\n",
              "      <th>2</th>\n",
              "      <td>คณะวิศวกรรมศาสตร์</td>\n",
              "    </tr>\n",
              "    <tr>\n",
              "      <th>3</th>\n",
              "      <td>คณะศึกษาศาสตร์</td>\n",
              "    </tr>\n",
              "    <tr>\n",
              "      <th>4</th>\n",
              "      <td>คณะอักษรศาสตร์</td>\n",
              "    </tr>\n",
              "  </tbody>\n",
              "</table>\n",
              "</div>"
            ],
            "text/plain": [
              "         คณะที่ศึกษา\n",
              "0                   \n",
              "1     คณะวิทยาศาสตร์\n",
              "2  คณะวิศวกรรมศาสตร์\n",
              "3     คณะศึกษาศาสตร์\n",
              "4     คณะอักษรศาสตร์"
            ]
          },
          "metadata": {},
          "execution_count": 22
        }
      ]
    },
    {
      "cell_type": "code",
      "metadata": {
        "colab": {
          "base_uri": "https://localhost:8080/",
          "height": 425
        },
        "id": "DDrlxQTDCLOo",
        "outputId": "4f6920ad-c9b5-495b-da6a-4756588ba2f4"
      },
      "source": [
        "result_df.head()"
      ],
      "execution_count": 23,
      "outputs": [
        {
          "output_type": "execute_result",
          "data": {
            "text/html": [
              "<div>\n",
              "<style scoped>\n",
              "    .dataframe tbody tr th:only-of-type {\n",
              "        vertical-align: middle;\n",
              "    }\n",
              "\n",
              "    .dataframe tbody tr th {\n",
              "        vertical-align: top;\n",
              "    }\n",
              "\n",
              "    .dataframe thead th {\n",
              "        text-align: right;\n",
              "    }\n",
              "</style>\n",
              "<table border=\"1\" class=\"dataframe\">\n",
              "  <thead>\n",
              "    <tr style=\"text-align: right;\">\n",
              "      <th></th>\n",
              "      <th>ประทับเวลา</th>\n",
              "      <th>เพศ</th>\n",
              "      <th>ชั้นปีการศึกษา</th>\n",
              "      <th>คณะที่ศึกษา</th>\n",
              "      <th>การให้คะแนนความพึงพอใจต่อ Applications ที่ใช้ในการศึกษาในช่วงสถานการณ์ Covid-19 [Zoom]</th>\n",
              "      <th>การให้คะแนนความพึงพอใจต่อ Applications ที่ใช้ในการศึกษาในช่วงสถานการณ์ Covid-19 [Google Meet]</th>\n",
              "      <th>การให้คะแนนความพึงพอใจต่อ Applications ที่ใช้ในการศึกษาในช่วงสถานการณ์ Covid-19 [Microsoft Teams]</th>\n",
              "    </tr>\n",
              "  </thead>\n",
              "  <tbody>\n",
              "    <tr>\n",
              "      <th>0</th>\n",
              "      <td>20/8/2021, 19:39:02</td>\n",
              "      <td>หญิง</td>\n",
              "      <td>ชั้นปีการศึกษาที่ 2</td>\n",
              "      <td>คณะวิทยาศาสตร์</td>\n",
              "      <td>4</td>\n",
              "      <td>5</td>\n",
              "      <td>5</td>\n",
              "    </tr>\n",
              "    <tr>\n",
              "      <th>1</th>\n",
              "      <td>20/8/2021, 19:39:39</td>\n",
              "      <td>หญิง</td>\n",
              "      <td>ชั้นปีการศึกษาที่ 2</td>\n",
              "      <td>คณะวิศวกรรมศาสตร์</td>\n",
              "      <td>3</td>\n",
              "      <td>3</td>\n",
              "      <td>3</td>\n",
              "    </tr>\n",
              "    <tr>\n",
              "      <th>2</th>\n",
              "      <td>20/8/2021, 19:39:48</td>\n",
              "      <td>ชาย</td>\n",
              "      <td>ชั้นปีการศึกษาที่ 1</td>\n",
              "      <td>คณะศึกษาศาสตร์</td>\n",
              "      <td>3</td>\n",
              "      <td>4</td>\n",
              "      <td>3</td>\n",
              "    </tr>\n",
              "    <tr>\n",
              "      <th>3</th>\n",
              "      <td>20/8/2021, 19:40:16</td>\n",
              "      <td>ชาย</td>\n",
              "      <td>ชั้นปีการศึกษาที่ 3</td>\n",
              "      <td>คณะอักษรศาสตร์</td>\n",
              "      <td>4</td>\n",
              "      <td>5</td>\n",
              "      <td>2</td>\n",
              "    </tr>\n",
              "    <tr>\n",
              "      <th>4</th>\n",
              "      <td>20/8/2021, 19:40:51</td>\n",
              "      <td>หญิง</td>\n",
              "      <td>ชั้นปีการศึกษาที่ 2</td>\n",
              "      <td>คณะศึกษาศาสตร์</td>\n",
              "      <td>4</td>\n",
              "      <td>3</td>\n",
              "      <td>4</td>\n",
              "    </tr>\n",
              "  </tbody>\n",
              "</table>\n",
              "</div>"
            ],
            "text/plain": [
              "            ประทับเวลา  ... การให้คะแนนความพึงพอใจต่อ Applications ที่ใช้ในการศึกษาในช่วงสถานการณ์ Covid-19 [Microsoft Teams]\n",
              "0  20/8/2021, 19:39:02  ...                                                  5                                               \n",
              "1  20/8/2021, 19:39:39  ...                                                  3                                               \n",
              "2  20/8/2021, 19:39:48  ...                                                  3                                               \n",
              "3  20/8/2021, 19:40:16  ...                                                  2                                               \n",
              "4  20/8/2021, 19:40:51  ...                                                  4                                               \n",
              "\n",
              "[5 rows x 7 columns]"
            ]
          },
          "metadata": {},
          "execution_count": 23
        }
      ]
    },
    {
      "cell_type": "code",
      "metadata": {
        "id": "Emfs3TUwEfbQ"
      },
      "source": [
        "result_df['Zoom'] = result_df['การให้คะแนนความพึงพอใจต่อ Applications ที่ใช้ในการศึกษาในช่วงสถานการณ์ Covid-19 [Zoom]']\n",
        "result_df['Google Meet'] = result_df['การให้คะแนนความพึงพอใจต่อ Applications ที่ใช้ในการศึกษาในช่วงสถานการณ์ Covid-19 [Google Meet]']\n",
        "result_df['Microsoft Teams'] = result_df['การให้คะแนนความพึงพอใจต่อ Applications ที่ใช้ในการศึกษาในช่วงสถานการณ์ Covid-19 [Microsoft Teams]']"
      ],
      "execution_count": 24,
      "outputs": []
    },
    {
      "cell_type": "code",
      "metadata": {
        "colab": {
          "base_uri": "https://localhost:8080/"
        },
        "id": "30dh6j8_FEnp",
        "outputId": "131f813c-43cd-4230-87a3-d8ea0da4c9ef"
      },
      "source": [
        "result_df.columns.to_list()"
      ],
      "execution_count": 25,
      "outputs": [
        {
          "output_type": "execute_result",
          "data": {
            "text/plain": [
              "['ประทับเวลา',\n",
              " 'เพศ',\n",
              " 'ชั้นปีการศึกษา',\n",
              " 'คณะที่ศึกษา',\n",
              " 'การให้คะแนนความพึงพอใจต่อ Applications ที่ใช้ในการศึกษาในช่วงสถานการณ์ Covid-19 [Zoom]',\n",
              " 'การให้คะแนนความพึงพอใจต่อ Applications ที่ใช้ในการศึกษาในช่วงสถานการณ์ Covid-19 [Google Meet]',\n",
              " 'การให้คะแนนความพึงพอใจต่อ Applications ที่ใช้ในการศึกษาในช่วงสถานการณ์ Covid-19 [Microsoft Teams]',\n",
              " 'Zoom',\n",
              " 'Google Meet',\n",
              " 'Microsoft Teams']"
            ]
          },
          "metadata": {},
          "execution_count": 25
        }
      ]
    },
    {
      "cell_type": "code",
      "metadata": {
        "id": "f0e0BOPJAiOi"
      },
      "source": [
        "column_name = result_df.columns.to_list()"
      ],
      "execution_count": 26,
      "outputs": []
    },
    {
      "cell_type": "code",
      "metadata": {
        "colab": {
          "base_uri": "https://localhost:8080/"
        },
        "id": "EzX3MKBwA5GT",
        "outputId": "1523e616-4571-442a-995a-74aa73cce50a"
      },
      "source": [
        "column_name.remove('การให้คะแนนความพึงพอใจต่อ Applications ที่ใช้ในการศึกษาในช่วงสถานการณ์ Covid-19 [Zoom]')\n",
        "column_name.remove('การให้คะแนนความพึงพอใจต่อ Applications ที่ใช้ในการศึกษาในช่วงสถานการณ์ Covid-19 [Google Meet]')\n",
        "column_name.remove('การให้คะแนนความพึงพอใจต่อ Applications ที่ใช้ในการศึกษาในช่วงสถานการณ์ Covid-19 [Microsoft Teams]')\n",
        "column_name"
      ],
      "execution_count": 27,
      "outputs": [
        {
          "output_type": "execute_result",
          "data": {
            "text/plain": [
              "['ประทับเวลา',\n",
              " 'เพศ',\n",
              " 'ชั้นปีการศึกษา',\n",
              " 'คณะที่ศึกษา',\n",
              " 'Zoom',\n",
              " 'Google Meet',\n",
              " 'Microsoft Teams']"
            ]
          },
          "metadata": {},
          "execution_count": 27
        }
      ]
    },
    {
      "cell_type": "code",
      "metadata": {
        "id": "O00AM-d3Fqlp"
      },
      "source": [
        "result_df.to_csv('ทดลอง.csv', encoding='utf8', columns = column_name, index=False)"
      ],
      "execution_count": 28,
      "outputs": []
    },
    {
      "cell_type": "code",
      "metadata": {
        "id": "NrbvFu7AcAEZ"
      },
      "source": [
        "qdf.to_csv('ทดลอง', encoding='utf8', index=False)"
      ],
      "execution_count": 29,
      "outputs": []
    },
    {
      "cell_type": "code",
      "metadata": {
        "colab": {
          "base_uri": "https://localhost:8080/",
          "height": 204
        },
        "id": "DeAjlMVNSQR1",
        "outputId": "9e1bb146-9250-4ab4-ec56-a3cf01f50496"
      },
      "source": [
        "qdf =  pandasql.sqldf(\"select คณะที่ศึกษา, sum([Zoom])/count(*) as q1 from result_df group by คณะที่ศึกษา\")\n",
        "\n",
        "qdf.head(20)"
      ],
      "execution_count": 30,
      "outputs": [
        {
          "output_type": "execute_result",
          "data": {
            "text/html": [
              "<div>\n",
              "<style scoped>\n",
              "    .dataframe tbody tr th:only-of-type {\n",
              "        vertical-align: middle;\n",
              "    }\n",
              "\n",
              "    .dataframe tbody tr th {\n",
              "        vertical-align: top;\n",
              "    }\n",
              "\n",
              "    .dataframe thead th {\n",
              "        text-align: right;\n",
              "    }\n",
              "</style>\n",
              "<table border=\"1\" class=\"dataframe\">\n",
              "  <thead>\n",
              "    <tr style=\"text-align: right;\">\n",
              "      <th></th>\n",
              "      <th>คณะที่ศึกษา</th>\n",
              "      <th>q1</th>\n",
              "    </tr>\n",
              "  </thead>\n",
              "  <tbody>\n",
              "    <tr>\n",
              "      <th>0</th>\n",
              "      <td></td>\n",
              "      <td>383.0</td>\n",
              "    </tr>\n",
              "    <tr>\n",
              "      <th>1</th>\n",
              "      <td>คณะวิทยาศาสตร์</td>\n",
              "      <td>3.0</td>\n",
              "    </tr>\n",
              "    <tr>\n",
              "      <th>2</th>\n",
              "      <td>คณะวิศวกรรมศาสตร์</td>\n",
              "      <td>3.0</td>\n",
              "    </tr>\n",
              "    <tr>\n",
              "      <th>3</th>\n",
              "      <td>คณะศึกษาศาสตร์</td>\n",
              "      <td>3.0</td>\n",
              "    </tr>\n",
              "    <tr>\n",
              "      <th>4</th>\n",
              "      <td>คณะอักษรศาสตร์</td>\n",
              "      <td>3.0</td>\n",
              "    </tr>\n",
              "  </tbody>\n",
              "</table>\n",
              "</div>"
            ],
            "text/plain": [
              "         คณะที่ศึกษา     q1\n",
              "0                     383.0\n",
              "1     คณะวิทยาศาสตร์    3.0\n",
              "2  คณะวิศวกรรมศาสตร์    3.0\n",
              "3     คณะศึกษาศาสตร์    3.0\n",
              "4     คณะอักษรศาสตร์    3.0"
            ]
          },
          "metadata": {},
          "execution_count": 30
        }
      ]
    },
    {
      "cell_type": "code",
      "metadata": {
        "id": "4719CnE1G4jy"
      },
      "source": [
        "q1 = 'sum([Zoom])/count(*) as q1'\n",
        "q2 = 'sum([Google Meet])/count(*) as q2'\n",
        "q3 = 'sum([Microsoft Teams])/count(*) as q3'"
      ],
      "execution_count": null,
      "outputs": []
    },
    {
      "cell_type": "code",
      "metadata": {
        "id": "iqQcxvHZHn1H"
      },
      "source": [
        "sql = \"select คณะที่ศึกษา, %s, %s, %s from result_df group by คณะที่ศึกษา\" % (q1, q2, q3)\n"
      ],
      "execution_count": null,
      "outputs": []
    },
    {
      "cell_type": "code",
      "metadata": {
        "colab": {
          "base_uri": "https://localhost:8080/",
          "height": 51
        },
        "id": "UsYpZCMzS_0S",
        "outputId": "14931255-109e-4952-bb19-dcba28976da4"
      },
      "source": [
        "sql"
      ],
      "execution_count": null,
      "outputs": [
        {
          "output_type": "execute_result",
          "data": {
            "application/vnd.google.colaboratory.intrinsic+json": {
              "type": "string"
            },
            "text/plain": [
              "'select คณะที่ศึกษา, sum([Zoom])/count(*) as q1, sum([Google Meet])/count(*) as q2, sum([Microsoft Teams])/count(*) as q3 from result_df group by คณะที่ศึกษา'"
            ]
          },
          "metadata": {},
          "execution_count": 163
        }
      ]
    },
    {
      "cell_type": "code",
      "metadata": {
        "colab": {
          "base_uri": "https://localhost:8080/",
          "height": 173
        },
        "id": "Z7dccAdaN_F4",
        "outputId": "637b7241-084d-4fde-b629-b0060470c38e"
      },
      "source": [
        "sum_report =  pandasql.sqldf(sql)\n",
        "\n",
        "sum_report.head(20)"
      ],
      "execution_count": null,
      "outputs": [
        {
          "output_type": "execute_result",
          "data": {
            "text/html": [
              "<div>\n",
              "<style scoped>\n",
              "    .dataframe tbody tr th:only-of-type {\n",
              "        vertical-align: middle;\n",
              "    }\n",
              "\n",
              "    .dataframe tbody tr th {\n",
              "        vertical-align: top;\n",
              "    }\n",
              "\n",
              "    .dataframe thead th {\n",
              "        text-align: right;\n",
              "    }\n",
              "</style>\n",
              "<table border=\"1\" class=\"dataframe\">\n",
              "  <thead>\n",
              "    <tr style=\"text-align: right;\">\n",
              "      <th></th>\n",
              "      <th>คณะที่ศึกษา</th>\n",
              "      <th>q1</th>\n",
              "      <th>q2</th>\n",
              "      <th>q3</th>\n",
              "    </tr>\n",
              "  </thead>\n",
              "  <tbody>\n",
              "    <tr>\n",
              "      <th>0</th>\n",
              "      <td>คณะวิทยาศาสตร์</td>\n",
              "      <td>3</td>\n",
              "      <td>4</td>\n",
              "      <td>3</td>\n",
              "    </tr>\n",
              "    <tr>\n",
              "      <th>1</th>\n",
              "      <td>คณะวิศวกรรมศาสตร์</td>\n",
              "      <td>3</td>\n",
              "      <td>4</td>\n",
              "      <td>3</td>\n",
              "    </tr>\n",
              "    <tr>\n",
              "      <th>2</th>\n",
              "      <td>คณะศึกษาศาสตร์</td>\n",
              "      <td>3</td>\n",
              "      <td>4</td>\n",
              "      <td>4</td>\n",
              "    </tr>\n",
              "    <tr>\n",
              "      <th>3</th>\n",
              "      <td>คณะอักษรศาสตร์</td>\n",
              "      <td>3</td>\n",
              "      <td>4</td>\n",
              "      <td>3</td>\n",
              "    </tr>\n",
              "  </tbody>\n",
              "</table>\n",
              "</div>"
            ],
            "text/plain": [
              "         คณะที่ศึกษา  q1  q2  q3\n",
              "0     คณะวิทยาศาสตร์   3   4   3\n",
              "1  คณะวิศวกรรมศาสตร์   3   4   3\n",
              "2     คณะศึกษาศาสตร์   3   4   4\n",
              "3     คณะอักษรศาสตร์   3   4   3"
            ]
          },
          "metadata": {},
          "execution_count": 165
        }
      ]
    },
    {
      "cell_type": "code",
      "metadata": {
        "colab": {
          "base_uri": "https://localhost:8080/",
          "height": 173
        },
        "id": "nmCsJsV_U2ad",
        "outputId": "0708b8ec-6df9-466b-89e1-abffe4da1b67"
      },
      "source": [
        "sum_report =  pandasql.sqldf(sql)\n",
        "\n",
        "sum_report.head(20)"
      ],
      "execution_count": null,
      "outputs": [
        {
          "output_type": "execute_result",
          "data": {
            "text/html": [
              "<div>\n",
              "<style scoped>\n",
              "    .dataframe tbody tr th:only-of-type {\n",
              "        vertical-align: middle;\n",
              "    }\n",
              "\n",
              "    .dataframe tbody tr th {\n",
              "        vertical-align: top;\n",
              "    }\n",
              "\n",
              "    .dataframe thead th {\n",
              "        text-align: right;\n",
              "    }\n",
              "</style>\n",
              "<table border=\"1\" class=\"dataframe\">\n",
              "  <thead>\n",
              "    <tr style=\"text-align: right;\">\n",
              "      <th></th>\n",
              "      <th>คณะที่ศึกษา</th>\n",
              "      <th>q1</th>\n",
              "      <th>q2</th>\n",
              "      <th>q3</th>\n",
              "    </tr>\n",
              "  </thead>\n",
              "  <tbody>\n",
              "    <tr>\n",
              "      <th>0</th>\n",
              "      <td>คณะวิทยาศาสตร์</td>\n",
              "      <td>3</td>\n",
              "      <td>4</td>\n",
              "      <td>3</td>\n",
              "    </tr>\n",
              "    <tr>\n",
              "      <th>1</th>\n",
              "      <td>คณะวิศวกรรมศาสตร์</td>\n",
              "      <td>3</td>\n",
              "      <td>4</td>\n",
              "      <td>3</td>\n",
              "    </tr>\n",
              "    <tr>\n",
              "      <th>2</th>\n",
              "      <td>คณะศึกษาศาสตร์</td>\n",
              "      <td>3</td>\n",
              "      <td>4</td>\n",
              "      <td>4</td>\n",
              "    </tr>\n",
              "    <tr>\n",
              "      <th>3</th>\n",
              "      <td>คณะอักษรศาสตร์</td>\n",
              "      <td>3</td>\n",
              "      <td>4</td>\n",
              "      <td>3</td>\n",
              "    </tr>\n",
              "  </tbody>\n",
              "</table>\n",
              "</div>"
            ],
            "text/plain": [
              "         คณะที่ศึกษา  q1  q2  q3\n",
              "0     คณะวิทยาศาสตร์   3   4   3\n",
              "1  คณะวิศวกรรมศาสตร์   3   4   3\n",
              "2     คณะศึกษาศาสตร์   3   4   4\n",
              "3     คณะอักษรศาสตร์   3   4   3"
            ]
          },
          "metadata": {},
          "execution_count": 166
        }
      ]
    },
    {
      "cell_type": "code",
      "metadata": {
        "id": "e9u_X7KuU6Cs"
      },
      "source": [
        "sum_report['sum'] = sum_report.sum(axis=1)"
      ],
      "execution_count": null,
      "outputs": []
    },
    {
      "cell_type": "code",
      "metadata": {
        "colab": {
          "base_uri": "https://localhost:8080/",
          "height": 173
        },
        "id": "Zko3K9tiVEbg",
        "outputId": "de43687f-416f-4b4c-8c53-30d03066ff89"
      },
      "source": [
        "sum_report.head(20)"
      ],
      "execution_count": null,
      "outputs": [
        {
          "output_type": "execute_result",
          "data": {
            "text/html": [
              "<div>\n",
              "<style scoped>\n",
              "    .dataframe tbody tr th:only-of-type {\n",
              "        vertical-align: middle;\n",
              "    }\n",
              "\n",
              "    .dataframe tbody tr th {\n",
              "        vertical-align: top;\n",
              "    }\n",
              "\n",
              "    .dataframe thead th {\n",
              "        text-align: right;\n",
              "    }\n",
              "</style>\n",
              "<table border=\"1\" class=\"dataframe\">\n",
              "  <thead>\n",
              "    <tr style=\"text-align: right;\">\n",
              "      <th></th>\n",
              "      <th>คณะที่ศึกษา</th>\n",
              "      <th>q1</th>\n",
              "      <th>q2</th>\n",
              "      <th>q3</th>\n",
              "      <th>sum</th>\n",
              "    </tr>\n",
              "  </thead>\n",
              "  <tbody>\n",
              "    <tr>\n",
              "      <th>0</th>\n",
              "      <td>คณะวิทยาศาสตร์</td>\n",
              "      <td>3</td>\n",
              "      <td>4</td>\n",
              "      <td>3</td>\n",
              "      <td>10</td>\n",
              "    </tr>\n",
              "    <tr>\n",
              "      <th>1</th>\n",
              "      <td>คณะวิศวกรรมศาสตร์</td>\n",
              "      <td>3</td>\n",
              "      <td>4</td>\n",
              "      <td>3</td>\n",
              "      <td>10</td>\n",
              "    </tr>\n",
              "    <tr>\n",
              "      <th>2</th>\n",
              "      <td>คณะศึกษาศาสตร์</td>\n",
              "      <td>3</td>\n",
              "      <td>4</td>\n",
              "      <td>4</td>\n",
              "      <td>11</td>\n",
              "    </tr>\n",
              "    <tr>\n",
              "      <th>3</th>\n",
              "      <td>คณะอักษรศาสตร์</td>\n",
              "      <td>3</td>\n",
              "      <td>4</td>\n",
              "      <td>3</td>\n",
              "      <td>10</td>\n",
              "    </tr>\n",
              "  </tbody>\n",
              "</table>\n",
              "</div>"
            ],
            "text/plain": [
              "         คณะที่ศึกษา  q1  q2  q3  sum\n",
              "0     คณะวิทยาศาสตร์   3   4   3   10\n",
              "1  คณะวิศวกรรมศาสตร์   3   4   3   10\n",
              "2     คณะศึกษาศาสตร์   3   4   4   11\n",
              "3     คณะอักษรศาสตร์   3   4   3   10"
            ]
          },
          "metadata": {},
          "execution_count": 168
        }
      ]
    },
    {
      "cell_type": "code",
      "metadata": {
        "colab": {
          "base_uri": "https://localhost:8080/",
          "height": 173
        },
        "id": "N4ulsXJGVIf1",
        "outputId": "2508917b-df27-428b-af27-8fe1b235dd2a"
      },
      "source": [
        "qdf =  pandasql.sqldf(\"select * from sum_report order by sum desc\")\n",
        "\n",
        "qdf.head(20)"
      ],
      "execution_count": null,
      "outputs": [
        {
          "output_type": "execute_result",
          "data": {
            "text/html": [
              "<div>\n",
              "<style scoped>\n",
              "    .dataframe tbody tr th:only-of-type {\n",
              "        vertical-align: middle;\n",
              "    }\n",
              "\n",
              "    .dataframe tbody tr th {\n",
              "        vertical-align: top;\n",
              "    }\n",
              "\n",
              "    .dataframe thead th {\n",
              "        text-align: right;\n",
              "    }\n",
              "</style>\n",
              "<table border=\"1\" class=\"dataframe\">\n",
              "  <thead>\n",
              "    <tr style=\"text-align: right;\">\n",
              "      <th></th>\n",
              "      <th>คณะที่ศึกษา</th>\n",
              "      <th>q1</th>\n",
              "      <th>q2</th>\n",
              "      <th>q3</th>\n",
              "      <th>sum</th>\n",
              "    </tr>\n",
              "  </thead>\n",
              "  <tbody>\n",
              "    <tr>\n",
              "      <th>0</th>\n",
              "      <td>คณะศึกษาศาสตร์</td>\n",
              "      <td>3</td>\n",
              "      <td>4</td>\n",
              "      <td>4</td>\n",
              "      <td>11</td>\n",
              "    </tr>\n",
              "    <tr>\n",
              "      <th>1</th>\n",
              "      <td>คณะวิทยาศาสตร์</td>\n",
              "      <td>3</td>\n",
              "      <td>4</td>\n",
              "      <td>3</td>\n",
              "      <td>10</td>\n",
              "    </tr>\n",
              "    <tr>\n",
              "      <th>2</th>\n",
              "      <td>คณะวิศวกรรมศาสตร์</td>\n",
              "      <td>3</td>\n",
              "      <td>4</td>\n",
              "      <td>3</td>\n",
              "      <td>10</td>\n",
              "    </tr>\n",
              "    <tr>\n",
              "      <th>3</th>\n",
              "      <td>คณะอักษรศาสตร์</td>\n",
              "      <td>3</td>\n",
              "      <td>4</td>\n",
              "      <td>3</td>\n",
              "      <td>10</td>\n",
              "    </tr>\n",
              "  </tbody>\n",
              "</table>\n",
              "</div>"
            ],
            "text/plain": [
              "         คณะที่ศึกษา  q1  q2  q3  sum\n",
              "0     คณะศึกษาศาสตร์   3   4   4   11\n",
              "1     คณะวิทยาศาสตร์   3   4   3   10\n",
              "2  คณะวิศวกรรมศาสตร์   3   4   3   10\n",
              "3     คณะอักษรศาสตร์   3   4   3   10"
            ]
          },
          "metadata": {},
          "execution_count": 169
        }
      ]
    },
    {
      "cell_type": "code",
      "metadata": {
        "colab": {
          "base_uri": "https://localhost:8080/"
        },
        "id": "Zk6jTGVCVe45",
        "outputId": "0c798a59-5e8a-426d-a22a-0a1c5e13730f"
      },
      "source": [
        "sum_report.sum()"
      ],
      "execution_count": null,
      "outputs": [
        {
          "output_type": "execute_result",
          "data": {
            "text/plain": [
              "คณะที่ศึกษา    คณะวิทยาศาสตร์คณะวิศวกรรมศาสตร์คณะศึกษาศาสตร์ค...\n",
              "q1                                                            12\n",
              "q2                                                            16\n",
              "q3                                                            13\n",
              "sum                                                           82\n",
              "dtype: object"
            ]
          },
          "metadata": {},
          "execution_count": 172
        }
      ]
    },
    {
      "cell_type": "code",
      "metadata": {
        "id": "W86jq7taWxid"
      },
      "source": [
        "qdf.to_csv('score.csv', encoding='utf8', index=False)"
      ],
      "execution_count": null,
      "outputs": []
    },
    {
      "cell_type": "code",
      "metadata": {
        "id": "iJTdVNo3XHKv"
      },
      "source": [
        ""
      ],
      "execution_count": null,
      "outputs": []
    }
  ]
}